
import mlflow
import mlflow.sklearn
from sklearn.linear_model import LinearRegression
from sklearn.ensemble import RandomForestRegressor
import xgboost as xgb
from sklearn.metrics import mean_squared_error, mean_absolute_error, r2_score
mlflow.set_tracking_uri("http://127.0.0.1:8501")
mlflow.set_experiment("Car_Price_Predictions")

# Define models
models = {
    "Random Forest": RandomForestRegressor(),
    "Linear Regression": LinearRegression(),
    "XGBoost": xgb.XGBRegressor()
}

for model_name, model in models.items():
    with mlflow.start_run(run_name=model_name):
        model.fit(x_train, y_train)
        y_pred = model.predict(x_test)

        # Calculate Metrics
        mse = mean_squared_error(y_test, y_pred)
        mae = mean_absolute_error(y_test, y_pred)
        r2 = r2_score(y_test, y_pred)

        # Log parameters and metrics
        mlflow.log_param("Model", model_name)
        mlflow.log_metric("Mean Squared Error", mse)
        mlflow.log_metric("Mean Absolute Error", mae)
        mlflow.log_metric("R² Score", r2)

        # Log the model
        mlflow.sklearn.log_model(model, model_name)

        print(f"{model_name}:")
        print(f"  Mean Squared Error: {mse:.2f}")
        print(f"  Mean Absolute Error: {mae:.2f}")
        print(f"  R² Score: {r2:.2f}\n")

print("All models trained and logged in MLflow.")  
